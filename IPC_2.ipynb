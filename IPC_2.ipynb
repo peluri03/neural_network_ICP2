{
  "nbformat": 4,
  "nbformat_minor": 0,
  "metadata": {
    "colab": {
      "provenance": []
    },
    "kernelspec": {
      "name": "python3",
      "display_name": "Python 3"
    },
    "language_info": {
      "name": "python"
    }
  },
  "cells": [
    {
      "cell_type": "code",
      "execution_count": 7,
      "metadata": {
        "colab": {
          "base_uri": "https://localhost:8080/"
        },
        "id": "UXn8m4aePXRk",
        "outputId": "b18bfa7b-1259-44dd-b216-f239bd661a61"
      },
      "outputs": [
        {
          "output_type": "stream",
          "name": "stdout",
          "text": [
            "priyanka\n",
            "eluri\n",
            "priyanka eluri\n",
            "piak lr\n"
          ]
        }
      ],
      "source": [
        "def string_alternative(s):\n",
        "  return s[::2]\n",
        "\n",
        "def full_name(fn, ln):\n",
        "     full_name= fn+\" \"+ln\n",
        "     print(full_name)\n",
        "     print(string_alternative(full_name))\n",
        "First_name=input()\n",
        "Last_name=input()\n",
        "full_name(First_name, Last_name)\n",
        "\n",
        "\n"
      ]
    },
    {
      "cell_type": "code",
      "source": [
        "l=[]\n",
        "l1=[]\n",
        "n=int(input(\"Enter number of customers: \"))\n",
        "for i in range(n):\n",
        "  l.append(int(input()))\n",
        "  l1.append(l[i]*2.54)\n",
        "print(l)\n",
        "print(l1)"
      ],
      "metadata": {
        "colab": {
          "base_uri": "https://localhost:8080/"
        },
        "id": "d1aCBG0TULfa",
        "outputId": "77f24695-37c7-4ba3-bbff-43ffce267e6d"
      },
      "execution_count": 8,
      "outputs": [
        {
          "output_type": "stream",
          "name": "stdout",
          "text": [
            "Enter number of customers: 3\n",
            "20\n",
            "25\n",
            "30\n",
            "[20, 25, 30]\n",
            "[50.8, 63.5, 76.2]\n"
          ]
        }
      ]
    }
  ]
}